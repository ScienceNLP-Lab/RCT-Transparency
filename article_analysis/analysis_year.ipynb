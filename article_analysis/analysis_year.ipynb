{
 "cells": [
  {
   "cell_type": "code",
   "execution_count": 1,
   "metadata": {},
   "outputs": [],
   "source": [
    "import pandas as pd\n",
    "import numpy as np\n",
    "import os\n",
    "import scipy.stats as st\n",
    "from collections import Counter\n",
    "import matplotlib.pyplot as plt\n",
    "from random import choices\n",
    "from matplotlib.pyplot import figure\n",
    "import mpl_scatter_density"
   ]
  },
  {
   "cell_type": "code",
   "execution_count": 3,
   "metadata": {},
   "outputs": [],
   "source": [
    "year_analysis = {\"0-1990\": 0, \"1990-1995\": 0, \"1995-2000\": 0, \"2000-2005\": 0, \"2005-2010\": 0, \"2010-2018\": 0}"
   ]
  },
  {
   "cell_type": "code",
   "execution_count": 8,
   "metadata": {},
   "outputs": [],
   "source": [
    "def update_year_analysis(file):\n",
    "    for i, df in file.groupby('PMID'):\n",
    "        if len(df['Year'].unique()) == 1:\n",
    "            for key in year_analysis:\n",
    "                if df['Year'].unique()[0] >= int(key.split('-')[0]) and df['Year'].unique()[0] < int(key.split('-')[1]):\n",
    "                    year_analysis[key] +=1\n",
    "        else:\n",
    "            print(i, df['Year'].unique())"
   ]
  },
  {
   "cell_type": "code",
   "execution_count": 4,
   "metadata": {},
   "outputs": [
    {
     "name": "stderr",
     "output_type": "stream",
     "text": [
      "/home/lanj3/anaconda3/lib/python3.7/site-packages/ipykernel_launcher.py:8: FutureWarning: Sorting because non-concatenation axis is not aligned. A future version\n",
      "of pandas will change to not sort by default.\n",
      "\n",
      "To accept the future behavior, pass 'sort=False'.\n",
      "\n",
      "To retain the current behavior and silence the warning, pass 'sort=True'.\n",
      "\n",
      "  \n",
      "/home/lanj3/anaconda3/lib/python3.7/site-packages/ipykernel_launcher.py:9: FutureWarning: Sorting because non-concatenation axis is not aligned. A future version\n",
      "of pandas will change to not sort by default.\n",
      "\n",
      "To accept the future behavior, pass 'sort=False'.\n",
      "\n",
      "To retain the current behavior and silence the warning, pass 'sort=True'.\n",
      "\n",
      "  if __name__ == '__main__':\n",
      "/home/lanj3/anaconda3/lib/python3.7/site-packages/ipykernel_launcher.py:7: FutureWarning: Sorting because non-concatenation axis is not aligned. A future version\n",
      "of pandas will change to not sort by default.\n",
      "\n",
      "To accept the future behavior, pass 'sort=False'.\n",
      "\n",
      "To retain the current behavior and silence the warning, pass 'sort=True'.\n",
      "\n",
      "  import sys\n"
     ]
    }
   ],
   "source": [
    "path = '../trendanalysis_finegrain/'\n",
    "path_miss = '../trendanalysis_finegrain/missing_data/'\n",
    "path_fulltext = '../trendanalysis_finegrain/fulltext/'\n",
    "files = [i for i in os.listdir(path) if 'edited' not in i and '.csv' in i]\n",
    "analysis_predictions_df = pd.DataFrame()\n",
    "for file in files:\n",
    "    analysis_predictions_df = pd.concat([analysis_predictions_df, pd.read_csv(os.path.join(path, file), header=0)])\n",
    "    analysis_predictions_df = pd.concat([analysis_predictions_df, pd.read_csv(os.path.join(path_miss, file), header=0).drop(['IF'], axis=1)])\n",
    "    analysis_predictions_df = pd.concat([analysis_predictions_df, pd.read_csv(os.path.join(path_fulltext, file), header=0).drop(['IF'], axis=1)])\n",
    "    "
   ]
  },
  {
   "cell_type": "code",
   "execution_count": 5,
   "metadata": {},
   "outputs": [],
   "source": [
    "analysis_predictions_df = analysis_predictions_df[~analysis_predictions_df['CONSORT_item'].isin(['3b', '6b'])]"
   ]
  },
  {
   "cell_type": "code",
   "execution_count": 5,
   "metadata": {},
   "outputs": [
    {
     "data": {
      "text/plain": [
       "Counter({5: 11363,\n",
       "         6: 12591,\n",
       "         10: 7546,\n",
       "         8: 10564,\n",
       "         3: 3841,\n",
       "         4: 7851,\n",
       "         7: 12028,\n",
       "         9: 9030,\n",
       "         11: 5738,\n",
       "         0: 635,\n",
       "         12: 3464,\n",
       "         13: 1586,\n",
       "         2: 1693,\n",
       "         1: 941,\n",
       "         14: 432,\n",
       "         15: 61,\n",
       "         16: 3})"
      ]
     },
     "execution_count": 5,
     "metadata": {},
     "output_type": "execute_result"
    }
   ],
   "source": [
    "report_ratio = []\n",
    "data_df_per_YEAR = analysis_predictions_df[(analysis_predictions_df[\"Year\"] < 2018) & (analysis_predictions_df[\"Year\"] >= 2010)]\n",
    "for pmid, df_displine_pmid in data_df_per_YEAR.groupby('PMID'):\n",
    "        report_ratio.append(list(df_displine_pmid.is_reported).count('Y'))\n",
    "from collections import Counter\n",
    "Counter(report_ratio)\n"
   ]
  },
  {
   "cell_type": "code",
   "execution_count": 6,
   "metadata": {},
   "outputs": [
    {
     "data": {
      "text/plain": [
       "89367"
      ]
     },
     "execution_count": 6,
     "metadata": {},
     "output_type": "execute_result"
    }
   ],
   "source": [
    "len(report_ratio)"
   ]
  },
  {
   "cell_type": "code",
   "execution_count": null,
   "metadata": {},
   "outputs": [],
   "source": [
    "fig = plt.figure()\n",
    "ax = fig.add_subplot(1, 1, 1, projection='scatter_density')\n",
    "ax.scatter_density(x, y)\n",
    "ax.set_xlim(-5, 10)\n",
    "ax.set_ylim(-5, 10)"
   ]
  },
  {
   "cell_type": "code",
   "execution_count": 6,
   "metadata": {},
   "outputs": [],
   "source": [
    "year_analysis = {\"0-1990\": [], \"1990-1995\":[], \"1995-2000\":[], \"2000-2005\":[], \"2005-2010\":[], \"2010-2018\":[]}"
   ]
  },
  {
   "cell_type": "code",
   "execution_count": 16,
   "metadata": {},
   "outputs": [
    {
     "name": "stdout",
     "output_type": "stream",
     "text": [
      "0-1990\n",
      "1990-1995\n",
      "1995-2000\n",
      "2000-2005\n",
      "2005-2010\n",
      "2010-2018\n"
     ]
    }
   ],
   "source": [
    "output = []\n",
    "for year in year_analysis.keys():\n",
    "    print(year)\n",
    "    year = year.split(\"-\")\n",
    "    report_ratio = []\n",
    "    data_df_per_YEAR = analysis_predictions_df[(analysis_predictions_df[\"Year\"] < int(year[1])) & (analysis_predictions_df[\"Year\"] >= int(year[0]))]\n",
    "    for pmid, df_displine_pmid in data_df_per_YEAR.groupby('PMID'):\n",
    "        report_ratio.append(list(df_displine_pmid.is_reported).count('Y')/15)\n",
    "    mean_item_period = np.mean(report_ratio)\n",
    "    ratio_list = []\n",
    "    for i in range(1000):\n",
    "        ratio_list.append(sum(choices(report_ratio, k=len(report_ratio)))/len(report_ratio))\n",
    "    cil, ciu=np.quantile(ratio_list, 0.025), np.quantile(ratio_list, 0.975)\n",
    "    output.append(['-'.join(year), mean_item_period, cil, ciu, mean_item_period - cil, mean_item_period - cil])\n",
    "#     print(cil, ciu)\n",
    "#     print(len(report_ratio))\n",
    "#     print(np.mean(report_ratio)-cil)\n",
    "#     print('------------------------')"
   ]
  },
  {
   "cell_type": "code",
   "execution_count": 15,
   "metadata": {},
   "outputs": [
    {
     "data": {
      "text/html": [
       "<div>\n",
       "<style scoped>\n",
       "    .dataframe tbody tr th:only-of-type {\n",
       "        vertical-align: middle;\n",
       "    }\n",
       "\n",
       "    .dataframe tbody tr th {\n",
       "        vertical-align: top;\n",
       "    }\n",
       "\n",
       "    .dataframe thead th {\n",
       "        text-align: right;\n",
       "    }\n",
       "</style>\n",
       "<table border=\"1\" class=\"dataframe\">\n",
       "  <thead>\n",
       "    <tr style=\"text-align: right;\">\n",
       "      <th></th>\n",
       "      <th>0</th>\n",
       "      <th>1</th>\n",
       "      <th>2</th>\n",
       "      <th>3</th>\n",
       "      <th>4</th>\n",
       "      <th>5</th>\n",
       "      <th>6</th>\n",
       "    </tr>\n",
       "  </thead>\n",
       "  <tbody>\n",
       "    <tr>\n",
       "      <td>0</td>\n",
       "      <td>0-1990</td>\n",
       "      <td>999</td>\n",
       "      <td>0.244308</td>\n",
       "      <td>0.240778</td>\n",
       "      <td>0.247651</td>\n",
       "      <td>0.003530</td>\n",
       "      <td>0.003530</td>\n",
       "    </tr>\n",
       "    <tr>\n",
       "      <td>1</td>\n",
       "      <td>1990-1995</td>\n",
       "      <td>999</td>\n",
       "      <td>0.294580</td>\n",
       "      <td>0.290981</td>\n",
       "      <td>0.298179</td>\n",
       "      <td>0.003599</td>\n",
       "      <td>0.003599</td>\n",
       "    </tr>\n",
       "    <tr>\n",
       "      <td>2</td>\n",
       "      <td>1995-2000</td>\n",
       "      <td>999</td>\n",
       "      <td>0.360256</td>\n",
       "      <td>0.357320</td>\n",
       "      <td>0.363191</td>\n",
       "      <td>0.002935</td>\n",
       "      <td>0.002935</td>\n",
       "    </tr>\n",
       "    <tr>\n",
       "      <td>3</td>\n",
       "      <td>2000-2005</td>\n",
       "      <td>999</td>\n",
       "      <td>0.402244</td>\n",
       "      <td>0.400299</td>\n",
       "      <td>0.404372</td>\n",
       "      <td>0.001945</td>\n",
       "      <td>0.001945</td>\n",
       "    </tr>\n",
       "    <tr>\n",
       "      <td>4</td>\n",
       "      <td>2005-2010</td>\n",
       "      <td>999</td>\n",
       "      <td>0.438840</td>\n",
       "      <td>0.437291</td>\n",
       "      <td>0.440437</td>\n",
       "      <td>0.001548</td>\n",
       "      <td>0.001548</td>\n",
       "    </tr>\n",
       "    <tr>\n",
       "      <td>5</td>\n",
       "      <td>2010-2018</td>\n",
       "      <td>999</td>\n",
       "      <td>0.474658</td>\n",
       "      <td>0.473423</td>\n",
       "      <td>0.475969</td>\n",
       "      <td>0.001235</td>\n",
       "      <td>0.001235</td>\n",
       "    </tr>\n",
       "  </tbody>\n",
       "</table>\n",
       "</div>"
      ],
      "text/plain": [
       "           0    1         2         3         4         5         6\n",
       "0     0-1990  999  0.244308  0.240778  0.247651  0.003530  0.003530\n",
       "1  1990-1995  999  0.294580  0.290981  0.298179  0.003599  0.003599\n",
       "2  1995-2000  999  0.360256  0.357320  0.363191  0.002935  0.002935\n",
       "3  2000-2005  999  0.402244  0.400299  0.404372  0.001945  0.001945\n",
       "4  2005-2010  999  0.438840  0.437291  0.440437  0.001548  0.001548\n",
       "5  2010-2018  999  0.474658  0.473423  0.475969  0.001235  0.001235"
      ]
     },
     "execution_count": 15,
     "metadata": {},
     "output_type": "execute_result"
    }
   ],
   "source": [
    "pd.DataFrame(output)"
   ]
  },
  {
   "cell_type": "code",
   "execution_count": 8,
   "metadata": {},
   "outputs": [],
   "source": [
    "label_name = ['3a', '4a', '4b', '5', '6a', '7a', '7b', '8a', '8b', '9', '10',\n",
    "              '11a', '11b', '12a', '12b']\n"
   ]
  },
  {
   "cell_type": "code",
   "execution_count": 26,
   "metadata": {},
   "outputs": [
    {
     "name": "stdout",
     "output_type": "stream",
     "text": [
      "0-1990\n",
      "1990-1995\n",
      "1995-2000\n",
      "2000-2005\n",
      "2005-2010\n",
      "2010-2018\n"
     ]
    }
   ],
   "source": [
    "finegrain_item = []\n",
    "\n",
    "for year in year_analysis.keys():\n",
    "    print(year)\n",
    "    year = year.split(\"-\")\n",
    "    ratio = dict()\n",
    "    for i in label_name:\n",
    "        ratio[i] = []\n",
    "    data_df_per_YEAR = analysis_predictions_df[(analysis_predictions_df[\"Year\"] < int(year[1])) & (analysis_predictions_df[\"Year\"] >= int(year[0]))]\n",
    "    for item, df_year_item in data_df_per_YEAR.groupby('CONSORT_item'):\n",
    "        ratio[item].extend(list((df_year_item.is_reported == 'Y').astype(int)))\n",
    "    for i in ratio:\n",
    "        mean_item_period = np.mean(ratio[i])\n",
    "        ratio_list = []\n",
    "        for j in range(1000):\n",
    "            ratio_list.append(sum(choices(ratio[i], k=len(ratio[i])))/len(ratio[i]))\n",
    "        cil, ciu=np.quantile(ratio_list, 0.025), np.quantile(ratio_list, 0.975)\n",
    "#         error_item_period = mean_item_period - cil\n",
    "        finegrain_item.append(['-'.join(year), i, mean_item_period, cil, ciu, mean_item_period - cil, ciu - mean_item_period])"
   ]
  },
  {
   "cell_type": "code",
   "execution_count": 25,
   "metadata": {},
   "outputs": [
    {
     "name": "stdout",
     "output_type": "stream",
     "text": [
      "0-1990\n"
     ]
    },
    {
     "ename": "KeyError",
     "evalue": "0",
     "output_type": "error",
     "traceback": [
      "\u001b[0;31m---------------------------------------------------------------------------\u001b[0m",
      "\u001b[0;31mKeyError\u001b[0m                                  Traceback (most recent call last)",
      "\u001b[0;32m<ipython-input-25-05879472c243>\u001b[0m in \u001b[0;36m<module>\u001b[0;34m\u001b[0m\n\u001b[1;32m     14\u001b[0m         \u001b[0mratio_list\u001b[0m \u001b[0;34m=\u001b[0m \u001b[0;34m[\u001b[0m\u001b[0;34m]\u001b[0m\u001b[0;34m\u001b[0m\u001b[0;34m\u001b[0m\u001b[0m\n\u001b[1;32m     15\u001b[0m         \u001b[0;32mfor\u001b[0m \u001b[0mi\u001b[0m \u001b[0;32min\u001b[0m \u001b[0mrange\u001b[0m\u001b[0;34m(\u001b[0m\u001b[0;36m1000\u001b[0m\u001b[0;34m)\u001b[0m\u001b[0;34m:\u001b[0m\u001b[0;34m\u001b[0m\u001b[0;34m\u001b[0m\u001b[0m\n\u001b[0;32m---> 16\u001b[0;31m             \u001b[0mratio_list\u001b[0m\u001b[0;34m.\u001b[0m\u001b[0mappend\u001b[0m\u001b[0;34m(\u001b[0m\u001b[0msum\u001b[0m\u001b[0;34m(\u001b[0m\u001b[0mchoices\u001b[0m\u001b[0;34m(\u001b[0m\u001b[0mratio\u001b[0m\u001b[0;34m[\u001b[0m\u001b[0mi\u001b[0m\u001b[0;34m]\u001b[0m\u001b[0;34m,\u001b[0m \u001b[0mk\u001b[0m\u001b[0;34m=\u001b[0m\u001b[0mlen\u001b[0m\u001b[0;34m(\u001b[0m\u001b[0mratio\u001b[0m\u001b[0;34m[\u001b[0m\u001b[0mi\u001b[0m\u001b[0;34m]\u001b[0m\u001b[0;34m)\u001b[0m\u001b[0;34m)\u001b[0m\u001b[0;34m)\u001b[0m\u001b[0;34m/\u001b[0m\u001b[0mlen\u001b[0m\u001b[0;34m(\u001b[0m\u001b[0mratio\u001b[0m\u001b[0;34m[\u001b[0m\u001b[0mi\u001b[0m\u001b[0;34m]\u001b[0m\u001b[0;34m)\u001b[0m\u001b[0;34m)\u001b[0m\u001b[0;34m\u001b[0m\u001b[0;34m\u001b[0m\u001b[0m\n\u001b[0m\u001b[1;32m     17\u001b[0m         \u001b[0mcil\u001b[0m\u001b[0;34m,\u001b[0m \u001b[0mciu\u001b[0m\u001b[0;34m=\u001b[0m\u001b[0mnp\u001b[0m\u001b[0;34m.\u001b[0m\u001b[0mquantile\u001b[0m\u001b[0;34m(\u001b[0m\u001b[0mratio_list\u001b[0m\u001b[0;34m,\u001b[0m \u001b[0;36m0.025\u001b[0m\u001b[0;34m)\u001b[0m\u001b[0;34m,\u001b[0m \u001b[0mnp\u001b[0m\u001b[0;34m.\u001b[0m\u001b[0mquantile\u001b[0m\u001b[0;34m(\u001b[0m\u001b[0mratio_list\u001b[0m\u001b[0;34m,\u001b[0m \u001b[0;36m0.975\u001b[0m\u001b[0;34m)\u001b[0m\u001b[0;34m\u001b[0m\u001b[0;34m\u001b[0m\u001b[0m\n\u001b[1;32m     18\u001b[0m \u001b[0;31m#         error_item_period = mean_item_period - cil\u001b[0m\u001b[0;34m\u001b[0m\u001b[0;34m\u001b[0m\u001b[0;34m\u001b[0m\u001b[0m\n",
      "\u001b[0;31mKeyError\u001b[0m: 0"
     ]
    }
   ],
   "source": [
    "finegrain_item = []\n",
    "\n",
    "for year in year_analysis.keys():\n",
    "    print(year)\n",
    "    year = year.split(\"-\")\n",
    "    ratio = dict()\n",
    "    for i in label_name:\n",
    "        ratio[i] = []\n",
    "    data_df_per_YEAR = analysis_predictions_df[(analysis_predictions_df[\"Year\"] < int(year[1])) & (analysis_predictions_df[\"Year\"] >= int(year[0]))]\n",
    "    for item, df_year_item in data_df_per_YEAR.groupby('CONSORT_item'):\n",
    "        ratio[item].append(df_year_item[df_year_item.is_reported == 'Y'].shape[0]/df_year_item.shape[0])\n",
    "    for i in ratio:\n",
    "        mean_item_period = np.mean(ratio[i])\n",
    "        ratio_list = []\n",
    "        for i in range(1000):\n",
    "            ratio_list.append(sum(choices(ratio[i], k=len(ratio[i])))/len(ratio[i]))\n",
    "        cil, ciu=np.quantile(ratio_list, 0.025), np.quantile(ratio_list, 0.975))\n",
    "        error_item_period = mean_item_period - cil\n",
    "        finegrain_item.append(['-'.join(year), i, mean_item_period, cil, ciu, mean_item_period - cil， mean_item_period - cil])\n",
    "    year_analysis['-'.join(year)] = ratio"
   ]
  },
  {
   "cell_type": "code",
   "execution_count": 11,
   "metadata": {},
   "outputs": [],
   "source": [
    "p_value = []\n",
    "for item in label_name:\n",
    "        p_value.append((item, st.ttest_ind(year_analysis['1990-1995'][item], year_analysis['2010-2018'][item])[1]))"
   ]
  },
  {
   "cell_type": "code",
   "execution_count": 13,
   "metadata": {},
   "outputs": [
    {
     "data": {
      "text/html": [
       "<div>\n",
       "<style scoped>\n",
       "    .dataframe tbody tr th:only-of-type {\n",
       "        vertical-align: middle;\n",
       "    }\n",
       "\n",
       "    .dataframe tbody tr th {\n",
       "        vertical-align: top;\n",
       "    }\n",
       "\n",
       "    .dataframe thead th {\n",
       "        text-align: right;\n",
       "    }\n",
       "</style>\n",
       "<table border=\"1\" class=\"dataframe\">\n",
       "  <thead>\n",
       "    <tr style=\"text-align: right;\">\n",
       "      <th></th>\n",
       "      <th>0</th>\n",
       "      <th>1</th>\n",
       "    </tr>\n",
       "  </thead>\n",
       "  <tbody>\n",
       "    <tr>\n",
       "      <th>0</th>\n",
       "      <td>3a</td>\n",
       "      <td>1.275947e-07</td>\n",
       "    </tr>\n",
       "    <tr>\n",
       "      <th>1</th>\n",
       "      <td>3b</td>\n",
       "      <td>7.440468e-03</td>\n",
       "    </tr>\n",
       "    <tr>\n",
       "      <th>2</th>\n",
       "      <td>4a</td>\n",
       "      <td>1.403638e-09</td>\n",
       "    </tr>\n",
       "    <tr>\n",
       "      <th>3</th>\n",
       "      <td>4b</td>\n",
       "      <td>1.899291e-10</td>\n",
       "    </tr>\n",
       "    <tr>\n",
       "      <th>4</th>\n",
       "      <td>5</td>\n",
       "      <td>4.843604e-06</td>\n",
       "    </tr>\n",
       "    <tr>\n",
       "      <th>5</th>\n",
       "      <td>6a</td>\n",
       "      <td>2.465460e-10</td>\n",
       "    </tr>\n",
       "    <tr>\n",
       "      <th>6</th>\n",
       "      <td>6b</td>\n",
       "      <td>2.760055e-05</td>\n",
       "    </tr>\n",
       "    <tr>\n",
       "      <th>7</th>\n",
       "      <td>7a</td>\n",
       "      <td>1.090652e-09</td>\n",
       "    </tr>\n",
       "    <tr>\n",
       "      <th>8</th>\n",
       "      <td>7b</td>\n",
       "      <td>2.954048e-08</td>\n",
       "    </tr>\n",
       "    <tr>\n",
       "      <th>9</th>\n",
       "      <td>8a</td>\n",
       "      <td>4.566271e-09</td>\n",
       "    </tr>\n",
       "    <tr>\n",
       "      <th>10</th>\n",
       "      <td>8b</td>\n",
       "      <td>2.215541e-07</td>\n",
       "    </tr>\n",
       "    <tr>\n",
       "      <th>11</th>\n",
       "      <td>9</td>\n",
       "      <td>1.215566e-11</td>\n",
       "    </tr>\n",
       "    <tr>\n",
       "      <th>12</th>\n",
       "      <td>10</td>\n",
       "      <td>7.537669e-09</td>\n",
       "    </tr>\n",
       "    <tr>\n",
       "      <th>13</th>\n",
       "      <td>11a</td>\n",
       "      <td>1.549533e-09</td>\n",
       "    </tr>\n",
       "    <tr>\n",
       "      <th>14</th>\n",
       "      <td>11b</td>\n",
       "      <td>8.259981e-07</td>\n",
       "    </tr>\n",
       "    <tr>\n",
       "      <th>15</th>\n",
       "      <td>12a</td>\n",
       "      <td>5.162841e-09</td>\n",
       "    </tr>\n",
       "    <tr>\n",
       "      <th>16</th>\n",
       "      <td>12b</td>\n",
       "      <td>1.698402e-08</td>\n",
       "    </tr>\n",
       "  </tbody>\n",
       "</table>\n",
       "</div>"
      ],
      "text/plain": [
       "      0             1\n",
       "0    3a  1.275947e-07\n",
       "1    3b  7.440468e-03\n",
       "2    4a  1.403638e-09\n",
       "3    4b  1.899291e-10\n",
       "4     5  4.843604e-06\n",
       "5    6a  2.465460e-10\n",
       "6    6b  2.760055e-05\n",
       "7    7a  1.090652e-09\n",
       "8    7b  2.954048e-08\n",
       "9    8a  4.566271e-09\n",
       "10   8b  2.215541e-07\n",
       "11    9  1.215566e-11\n",
       "12   10  7.537669e-09\n",
       "13  11a  1.549533e-09\n",
       "14  11b  8.259981e-07\n",
       "15  12a  5.162841e-09\n",
       "16  12b  1.698402e-08"
      ]
     },
     "execution_count": 13,
     "metadata": {},
     "output_type": "execute_result"
    }
   ],
   "source": [
    "pd.DataFrame(p_value)"
   ]
  },
  {
   "cell_type": "code",
   "execution_count": 24,
   "metadata": {},
   "outputs": [],
   "source": [
    "pd.DataFrame(finegrain_item).sort_values(by=[1,0]).to_csv('UTRECHT_analysis_year_finegrain.csv', index=False)"
   ]
  },
  {
   "cell_type": "code",
   "execution_count": 28,
   "metadata": {},
   "outputs": [],
   "source": [
    "pd.DataFrame(finegrain_item).sort_values(by=[1,0]).to_csv('UTRECHT_analysis_year_finegrain.csv', index=False)"
   ]
  },
  {
   "cell_type": "code",
   "execution_count": null,
   "metadata": {},
   "outputs": [],
   "source": []
  }
 ],
 "metadata": {
  "kernelspec": {
   "display_name": "Python 3",
   "language": "python",
   "name": "python3"
  },
  "language_info": {
   "codemirror_mode": {
    "name": "ipython",
    "version": 3
   },
   "file_extension": ".py",
   "mimetype": "text/x-python",
   "name": "python",
   "nbconvert_exporter": "python",
   "pygments_lexer": "ipython3",
   "version": "3.7.4"
  }
 },
 "nbformat": 4,
 "nbformat_minor": 5
}
