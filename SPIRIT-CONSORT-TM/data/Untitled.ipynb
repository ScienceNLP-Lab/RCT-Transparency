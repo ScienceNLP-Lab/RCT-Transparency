{
 "cells": [
  {
   "cell_type": "code",
   "execution_count": 50,
   "id": "8b8adc39-1b14-4f81-9087-c7cf90391c6f",
   "metadata": {},
   "outputs": [],
   "source": [
    "import pandas as pd\n",
    "from nltk.tokenize import word_tokenize\n",
    "import statistics\n",
    "import scipy.stats as stats"
   ]
  },
  {
   "cell_type": "code",
   "execution_count": 51,
   "id": "eebd015e-7738-4256-aa77-83d3cdc6a249",
   "metadata": {},
   "outputs": [],
   "source": [
    "file = pd.read_csv('sentences.csv', header=0)"
   ]
  },
  {
   "cell_type": "code",
   "execution_count": 58,
   "id": "8564afd5-ee77-4501-a5a2-20f194adff11",
   "metadata": {},
   "outputs": [],
   "source": [
    "test = file[file.Split == 'train']"
   ]
  },
  {
   "cell_type": "code",
   "execution_count": 59,
   "id": "33ea406f-8b60-49d3-b7bc-a007325f85a4",
   "metadata": {},
   "outputs": [],
   "source": [
    "all_num_tokens = []\n",
    "for id, article in test.groupby('PMCID'):\n",
    "    num_word = 0\n",
    "    for i, sent in article.iterrows():\n",
    "        num_word += len(word_tokenize(str(sent['SentenceNoMarkers'])))\n",
    "    all_num_tokens.append(num_word)\n"
   ]
  },
  {
   "cell_type": "markdown",
   "id": "030d558b-7071-4f42-8471-2e6efba59307",
   "metadata": {},
   "source": [
    "# Train"
   ]
  },
  {
   "cell_type": "code",
   "execution_count": 35,
   "id": "d701d6d5-8322-4f92-b319-2675ef915196",
   "metadata": {},
   "outputs": [
    {
     "data": {
      "text/plain": [
       "854289"
      ]
     },
     "execution_count": 35,
     "metadata": {},
     "output_type": "execute_result"
    }
   ],
   "source": [
    "sum(all_num_tokens)"
   ]
  },
  {
   "cell_type": "code",
   "execution_count": 60,
   "id": "9d87c33b-4a7d-4d7c-871d-5b95d9e304fe",
   "metadata": {},
   "outputs": [
    {
     "data": {
      "text/plain": [
       "(6102.064285714286, 1953.1081416818176)"
      ]
     },
     "execution_count": 60,
     "metadata": {},
     "output_type": "execute_result"
    }
   ],
   "source": [
    "sum(all_num_tokens)/(len(all_num_tokens)), statistics.stdev(all_num_tokens)"
   ]
  },
  {
   "cell_type": "code",
   "execution_count": 61,
   "id": "0a200c5c-578e-4f40-85f9-62bcc35f3c0f",
   "metadata": {},
   "outputs": [
    {
     "data": {
      "text/plain": [
       "(5918.0, 2003.5)"
      ]
     },
     "execution_count": 61,
     "metadata": {},
     "output_type": "execute_result"
    }
   ],
   "source": [
    "statistics.median(all_num_tokens), stats.iqr(all_num_tokens)"
   ]
  },
  {
   "cell_type": "markdown",
   "id": "45dd3c27-612b-4d1e-960d-4a0734316de4",
   "metadata": {},
   "source": [
    "# Dev"
   ]
  },
  {
   "cell_type": "code",
   "execution_count": 41,
   "id": "bf7a3277-762f-416f-8201-6dadf94ea401",
   "metadata": {},
   "outputs": [
    {
     "data": {
      "text/plain": [
       "108870"
      ]
     },
     "execution_count": 41,
     "metadata": {},
     "output_type": "execute_result"
    }
   ],
   "source": [
    "sum(all_num_tokens)"
   ]
  },
  {
   "cell_type": "code",
   "execution_count": 57,
   "id": "3b61ba10-bf7e-45e0-beec-0687a63fcbe8",
   "metadata": {},
   "outputs": [
    {
     "data": {
      "text/plain": [
       "(5443.5, 1094.2954234045808)"
      ]
     },
     "execution_count": 57,
     "metadata": {},
     "output_type": "execute_result"
    }
   ],
   "source": [
    "sum(all_num_tokens)/(len(all_num_tokens)), statistics.stdev(all_num_tokens)"
   ]
  },
  {
   "cell_type": "code",
   "execution_count": 43,
   "id": "c467b8bc-8f05-46ac-8a97-ed563f57395a",
   "metadata": {},
   "outputs": [
    {
     "data": {
      "text/plain": [
       "(5695.0, 1434.25)"
      ]
     },
     "execution_count": 43,
     "metadata": {},
     "output_type": "execute_result"
    }
   ],
   "source": [
    "statistics.median(all_num_tokens), stats.iqr(all_num_tokens)"
   ]
  },
  {
   "cell_type": "markdown",
   "id": "3e4737ab-f6ed-4bc7-88ab-fc811c076f6c",
   "metadata": {},
   "source": [
    "# Test"
   ]
  },
  {
   "cell_type": "code",
   "execution_count": 47,
   "id": "ce79477e-9241-4d3e-9763-3871f4e83914",
   "metadata": {},
   "outputs": [
    {
     "data": {
      "text/plain": [
       "247948"
      ]
     },
     "execution_count": 47,
     "metadata": {},
     "output_type": "execute_result"
    }
   ],
   "source": [
    "sum(all_num_tokens)"
   ]
  },
  {
   "cell_type": "code",
   "execution_count": 54,
   "id": "1bb09479-1ee9-420f-b833-6e10f5761992",
   "metadata": {},
   "outputs": [
    {
     "data": {
      "text/plain": [
       "(6198.7, 1870.2834722754374)"
      ]
     },
     "execution_count": 54,
     "metadata": {},
     "output_type": "execute_result"
    }
   ],
   "source": [
    "sum(all_num_tokens)/(len(all_num_tokens)), statistics.stdev(all_num_tokens)"
   ]
  },
  {
   "cell_type": "code",
   "execution_count": 49,
   "id": "de60ffbc-02a0-4058-aeaf-90109bda3bad",
   "metadata": {},
   "outputs": [
    {
     "data": {
      "text/plain": [
       "(6098.0, 1621.5)"
      ]
     },
     "execution_count": 49,
     "metadata": {},
     "output_type": "execute_result"
    }
   ],
   "source": [
    "statistics.median(all_num_tokens), stats.iqr(all_num_tokens)"
   ]
  },
  {
   "cell_type": "code",
   "execution_count": null,
   "id": "a6b81832-1a2f-4335-a07b-1034479dfd70",
   "metadata": {},
   "outputs": [],
   "source": []
  }
 ],
 "metadata": {
  "kernelspec": {
   "display_name": "Python 3 (ipykernel)",
   "language": "python",
   "name": "python3"
  },
  "language_info": {
   "codemirror_mode": {
    "name": "ipython",
    "version": 3
   },
   "file_extension": ".py",
   "mimetype": "text/x-python",
   "name": "python",
   "nbconvert_exporter": "python",
   "pygments_lexer": "ipython3",
   "version": "3.11.7"
  }
 },
 "nbformat": 4,
 "nbformat_minor": 5
}
